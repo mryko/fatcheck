{
  "nbformat": 4,
  "nbformat_minor": 0,
  "metadata": {
    "colab": {
      "provenance": [],
      "authorship_tag": "ABX9TyMpDenEoobn/7CwEG0EFZrz",
      "include_colab_link": true
    },
    "kernelspec": {
      "name": "python3",
      "display_name": "Python 3"
    },
    "language_info": {
      "name": "python"
    }
  },
  "cells": [
    {
      "cell_type": "markdown",
      "metadata": {
        "id": "view-in-github",
        "colab_type": "text"
      },
      "source": [
        "<a href=\"https://colab.research.google.com/github/mryko/fatcheck/blob/main/weight_loss_simplified.ipynb\" target=\"_parent\"><img src=\"https://colab.research.google.com/assets/colab-badge.svg\" alt=\"Open In Colab\"/></a>"
      ]
    },
    {
      "cell_type": "markdown",
      "source": [
        "# Weight Loss Tools\n",
        "\n",
        "Tools to find numbers that I am currently using.\n",
        "The focus is on losing weight because its the simplest number to track."
      ],
      "metadata": {
        "id": "_xjaIfTBhm-R"
      }
    },
    {
      "cell_type": "markdown",
      "source": [
        "# healthy bmi\n"
      ],
      "metadata": {
        "id": "g9NrP5R9mb-Q"
      }
    },
    {
      "cell_type": "code",
      "source": [
        "import pandas as pd\n",
        "import numpy as np\n",
        "\n",
        "def calculate_weights():\n",
        "    # Ask for input\n",
        "    Ht_ft = float(input(\"Enter your height in feet: \")) \n",
        "    Ht_in = float(input(\"Enter your additional height in inches: \"))\n",
        "\n",
        "    # Convert height to inches\n",
        "    Ht = Ht_ft * 12 + Ht_in\n",
        "\n",
        "    # Create a list of BMIs\n",
        "    BMIs = np.arange(18.5, 25, 1)\n",
        "\n",
        "    # Calculate weights\n",
        "    weights = [5 * BMI + (BMI / 5) * (Ht - 60) for BMI in BMIs]\n",
        "\n",
        "    # Create a DataFrame\n",
        "    df = pd.DataFrame({\n",
        "        'BMI': BMIs,\n",
        "        'Weight (pounds)': weights\n",
        "    })\n",
        "\n",
        "    # Print the DataFrame\n",
        "    print(df)\n",
        "\n",
        "# Call the function\n",
        "calculate_weights()"
      ],
      "metadata": {
        "colab": {
          "base_uri": "https://localhost:8080/"
        },
        "id": "RtzdD_0MIZIK",
        "outputId": "18eda7a8-dee6-4329-d48e-3ca24816357b"
      },
      "execution_count": null,
      "outputs": [
        {
          "output_type": "stream",
          "name": "stdout",
          "text": [
            "Enter your height in feet: 5\n",
            "Enter your additional height in inches: 2\n",
            "    BMI  Weight (pounds)\n",
            "0  18.5             99.9\n",
            "1  19.5            105.3\n",
            "2  20.5            110.7\n",
            "3  21.5            116.1\n",
            "4  22.5            121.5\n",
            "5  23.5            126.9\n",
            "6  24.5            132.3\n"
          ]
        }
      ]
    },
    {
      "cell_type": "code",
      "source": [
        "waist_circumference = float(input(\"Enter your waist circumference in inches: \"))\n",
        "hip_circumference = float(input(\"Enter your hip circumference in inches: \"))\n",
        "waist_to_hip_ratio = waist_circumference / hip_circumference\n",
        "print(\"Your waist-to-hip ratio is: \", waist_to_hip_ratio)"
      ],
      "metadata": {
        "colab": {
          "base_uri": "https://localhost:8080/"
        },
        "id": "7IeLBxPGKcuW",
        "outputId": "06da78a6-8e4c-40bd-9f93-e1c8e6a46e70"
      },
      "execution_count": null,
      "outputs": [
        {
          "output_type": "stream",
          "name": "stdout",
          "text": [
            "Enter your waist circumference in inches: 27\n",
            "Enter your hip circumference in inches: 36\n",
            "Your waist-to-hip ratio is:  0.75\n"
          ]
        }
      ]
    },
    {
      "cell_type": "markdown",
      "source": [
        "# minimum survival calories"
      ],
      "metadata": {
        "id": "gfKOhpK1mOHL"
      }
    },
    {
      "cell_type": "code",
      "source": [
        "def calculate_bmr_tdee(weight_lb, height_ft, height_in, age, sex, activity_level):\n",
        "    # Helper function to convert height in feet and inches to centimeters\n",
        "    def convert_height_to_cm(feet, inches):\n",
        "        total_inches = feet * 12 + inches\n",
        "        cm = total_inches * 2.54  # 1 inch is 2.54 cm\n",
        "        return cm\n",
        "\n",
        "    # Helper function to convert weight in pounds to kilograms\n",
        "    def convert_weight_to_kg(weight_lb):\n",
        "        kg = weight_lb * 0.45359237  # 1 pound is 0.45359237 kg\n",
        "        return kg\n",
        "\n",
        "    # Convert height to cm\n",
        "    height_cm = convert_height_to_cm(height_ft, height_in)\n",
        "\n",
        "    # Convert weight to kg\n",
        "    weight_kg = convert_weight_to_kg(weight_lb)\n",
        "\n",
        "    # Calculate BMR and TDEE based on the provided formulas\n",
        "    if sex.upper() == \"M\":\n",
        "        BMR = 88.362 + (13.397 * weight_kg) + (4.799 * height_cm) - (5.677 * age)\n",
        "    else:\n",
        "        BMR = 447.593 + (9.247 * weight_kg) + (3.098 * height_cm) - (4.330 * age)\n",
        "\n",
        "    TDEE = BMR * activity_level\n",
        "\n",
        "    return BMR, TDEE\n",
        "\n",
        "# Get user input for weight, height, age, sex, and activity level\n",
        "weight_lb = float(input(\"Enter your weight in pounds: \"))\n",
        "height_ft = int(input(\"Enter your height in feet: \"))\n",
        "height_in = int(input(\"Enter your height in inches: \"))\n",
        "age = int(input(\"Enter your age: \"))\n",
        "sex = input(\"Enter your sex (M/F): \")\n",
        "activity_level = float(input(\"Enter your activity level (1.2 for sedentary, 1.375 for lightly active, 1.55 for moderately active, 1.725 for very active, 1.9 for extra active): \"))\n",
        "\n",
        "BMR, TDEE = calculate_bmr_tdee(weight_lb, height_ft, height_in, age, sex, activity_level)\n",
        "\n",
        "print(\"Your BMR is:\", BMR)\n",
        "print(\"Your TDEE is:\", TDEE)"
      ],
      "metadata": {
        "colab": {
          "base_uri": "https://localhost:8080/"
        },
        "id": "2TfVYCK6I3U4",
        "outputId": "c4ca7f46-ac68-4030-c906-7b65f43f80f0"
      },
      "execution_count": null,
      "outputs": [
        {
          "output_type": "stream",
          "name": "stdout",
          "text": [
            "Enter your weight in pounds: 128\n",
            "Enter your height in feet: 5\n",
            "Enter your height in inches: 2\n",
            "Enter your age: 25\n",
            "Enter your sex (M/F): f\n",
            "Enter your activity level (1.2 for sedentary, 1.375 for lightly active, 1.55 for moderately active, 1.725 for very active, 1.9 for extra active): 1.2\n",
            "Your BMR is: 1364.09522660992\n",
            "Your TDEE is: 1636.914271931904\n"
          ]
        }
      ]
    },
    {
      "cell_type": "markdown",
      "source": [
        "# how quick!"
      ],
      "metadata": {
        "id": "V4puno56mJDs"
      }
    },
    {
      "cell_type": "code",
      "source": [
        "import datetime\n",
        "\n",
        "def calculate_bmr_tdee(weight_lb, height_ft, height_in, age, sex, activity_level):\n",
        "    # Helper function to convert height in feet and inches to centimeters\n",
        "    def convert_height_to_cm(feet, inches):\n",
        "        total_inches = feet * 12 + inches\n",
        "        cm = total_inches * 2.54  # 1 inch is 2.54 cm\n",
        "        return cm\n",
        "\n",
        "    # Helper function to convert weight in pounds to kilograms\n",
        "    def convert_weight_to_kg(weight_lb):\n",
        "        kg = weight_lb * 0.45359237  # 1 pound is 0.45359237 kg\n",
        "        return kg\n",
        "\n",
        "    # Convert height to cm\n",
        "    height_cm = convert_height_to_cm(height_ft, height_in)\n",
        "\n",
        "    # Convert weight to kg\n",
        "    weight_kg = convert_weight_to_kg(weight_lb)\n",
        "\n",
        "    # Calculate BMR and TDEE based on the provided formulas\n",
        "    if sex.upper() == \"M\":\n",
        "        BMR = 88.362 + (13.397 * weight_kg) + (4.799 * height_cm) - (5.677 * age)\n",
        "    else:\n",
        "        BMR = 447.593 + (9.247 * weight_kg) + (3.098 * height_cm) - (4.330 * age)\n",
        "\n",
        "    TDEE = BMR * activity_level\n",
        "\n",
        "    return BMR, TDEE\n",
        "\n",
        "\n",
        "def calculate_weeks_to_ideal_weight():\n",
        "\n",
        "    # Get user input for weight, height, age, sex, and activity level\n",
        "    height_ft = int(input(\"Enter your height in feet: \"))\n",
        "    height_in = int(input(\"Enter your height in inches: \"))\n",
        "    age = int(input(\"Enter your age: \"))\n",
        "    sex = input(\"Enter your sex (M/F): \")\n",
        "    activity_level = float(input(\"Enter your activity level (1.2 for sedentary, 1.375 for lightly active, 1.55 for moderately active, 1.725 for very active, 1.9 for extra active): \"))\n",
        "\n",
        "    current_weight = float(input(\"Enter your current weight (in pounds): \"))\n",
        "    ideal_weight = float(input(\"Enter your ideal weight (in pounds): \"))\n",
        "    avg_calories_per_day = float(input(\"Enter your average calorie intake per day: \"))\n",
        "    additional_calories_burned = float(input(\"Enter additional calories burned through exercise per day: \"))\n",
        "\n",
        "    TDEE, BMR = calculate_bmr_tdee(weight_lb, height_ft, height_in, age, sex, activity_level)\n",
        "\n",
        "    print(\"Your BMR is:\", BMR)\n",
        "    print(\"Your TDEE is:\", TDEE)\n",
        "\n",
        "    calories_per_week = (avg_calories_per_day - TDEE - additional_calories_burned) * 7\n",
        "    weight_difference = abs(current_weight - ideal_weight)\n",
        "\n",
        "    if weight_difference == 0:\n",
        "        print(\"You have already reached your ideal weight!\")\n",
        "        return\n",
        "\n",
        "    rate_of_fat_loss_per_week = 3500  # 1 pound of fat loss requires a 3500-calorie deficit per week\n",
        "    weeks_to_reach_ideal_weight = weight_difference * rate_of_fat_loss_per_week / -calories_per_week\n",
        "\n",
        "    return weeks_to_reach_ideal_weight\n",
        "\n",
        "def calculate_date_to_achieve_weight(weeks_to_reach_ideal_weight):\n",
        "    days_to_reach_ideal_weight = weeks_to_reach_ideal_weight * 7\n",
        "    target_date = datetime.date.today() + datetime.timedelta(days=days_to_reach_ideal_weight)\n",
        "    return target_date\n",
        "\n",
        "\n",
        "# Main program\n",
        "weeks_to_reach_ideal_weight = calculate_weeks_to_ideal_weight()\n",
        "target_date = calculate_date_to_achieve_weight(weeks_to_reach_ideal_weight)\n",
        "\n",
        "if result:\n",
        "    print(\"It will take approximately\", round(weeks_to_reach_ideal_weight, 2), \"weeks to reach your ideal weight.\")\n",
        "    print(\"You will achieve your ideal weight on\", target_date)\n"
      ],
      "metadata": {
        "colab": {
          "base_uri": "https://localhost:8080/"
        },
        "id": "6RilvAwwX5N2",
        "outputId": "1ddb3a5f-a76c-4cb1-d89e-1675ca291512"
      },
      "execution_count": null,
      "outputs": [
        {
          "output_type": "stream",
          "name": "stdout",
          "text": [
            "Enter your height in feet: 5\n",
            "Enter your height in inches: 2\n",
            "Enter your age: 25\n",
            "Enter your sex (M/F): f\n",
            "Enter your activity level (1.2 for sedentary, 1.375 for lightly active, 1.55 for moderately active, 1.725 for very active, 1.9 for extra active): 1.2\n",
            "Enter your current weight (in pounds): 128\n",
            "Enter your ideal weight (in pounds): 105\n",
            "Enter your average calorie intake per day: 800\n",
            "Enter additional calories burned through exercise per day: 500\n",
            "Your BMR is: 1636.914271931904\n",
            "Your TDEE is: 1364.09522660992\n",
            "It will take approximately 10.81 weeks to reach your ideal weight.\n",
            "You will achieve your ideal weight on 2023-08-11\n"
          ]
        }
      ]
    }
  ]
}